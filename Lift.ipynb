{
  "nbformat": 4,
  "nbformat_minor": 0,
  "metadata": {
    "colab": {
      "name": "Lift.ipynb",
      "provenance": [],
      "collapsed_sections": [],
      "authorship_tag": "ABX9TyORZ3kOCGPrpf5zgS7o1HP/",
      "include_colab_link": true
    },
    "kernelspec": {
      "display_name": "Python 3",
      "name": "python3"
    }
  },
  "cells": [
    {
      "cell_type": "markdown",
      "metadata": {
        "id": "view-in-github",
        "colab_type": "text"
      },
      "source": [
        "<a href=\"https://colab.research.google.com/github/Soitch/hello-world/blob/master/Lift.ipynb\" target=\"_parent\"><img src=\"https://colab.research.google.com/assets/colab-badge.svg\" alt=\"Open In Colab\"/></a>"
      ]
    },
    {
      "cell_type": "markdown",
      "metadata": {
        "id": "vKnz-MEFcYu4"
      },
      "source": [
        "Задача про лифт"
      ]
    },
    {
      "cell_type": "code",
      "metadata": {
        "colab": {
          "base_uri": "https://localhost:8080/"
        },
        "id": "t9OgK-UrcO4d",
        "outputId": "0853e758-16f0-4ed7-c87a-dd130b7745e1"
      },
      "source": [
        "N = int(input()) \r\n",
        "A = int(input())\r\n",
        "B = int(input())\r\n",
        "C = int(input())\r\n",
        "\r\n",
        "floats = [abs(A-N), abs(B-N), abs(C-N)] # массив по расстоянию до этажа вызова\r\n",
        "m = min(floats) # минимум по этажам \r\n",
        "t = len(set(floats)) # проверка на повторение в массива\r\n",
        "\r\n",
        "if t < 3: # если есть лифты на одном этаже\r\n",
        "  if floats[1] == floats[0]:\r\n",
        "    print(\"B\")\r\n",
        "  elif floats[1] == floats[2]:\r\n",
        "    print(\"B\")\r\n",
        "  else:\r\n",
        "    if C > A:\r\n",
        "      print(\"C\")\r\n",
        "    else:\r\n",
        "      print(\"A\")\r\n",
        "      \r\n",
        "else: # если нет лифтов на одном этаже\r\n",
        "  if floats.index(m) == 0:\r\n",
        "    print(\"A\")\r\n",
        "  elif  floats.index(m) == 1:\r\n",
        "    print(\"B\")\r\n",
        "  elif  floats.index(m) == 2:\r\n",
        "    print(\"C\")"
      ],
      "execution_count": null,
      "outputs": [
        {
          "output_type": "stream",
          "text": [
            "7\n",
            "3\n",
            "2\n",
            "3\n",
            "A\n"
          ],
          "name": "stdout"
        }
      ]
    },
    {
      "cell_type": "markdown",
      "metadata": {
        "id": "3gSrubvcFjTD"
      },
      "source": [
        "Задача про клетки. Рекурсия даёт только 997 позиций"
      ]
    },
    {
      "cell_type": "code",
      "metadata": {
        "id": "5AMDpUKibhFX"
      },
      "source": [
        " \n",
        "n = int(input())\n",
        " \n",
        "def Summa(x):\n",
        "  if x == 1 : \n",
        "    return 1\n",
        "  else:\n",
        "    s = (x-1)*4 + Summa(x-1)\n",
        "    return s\n",
        " \n",
        "print(Summa(n))"
      ],
      "execution_count": null,
      "outputs": []
    },
    {
      "cell_type": "code",
      "metadata": {
        "colab": {
          "base_uri": "https://localhost:8080/"
        },
        "id": "AGVk7bkUF0Ij",
        "outputId": "5b8ffaf8-fd06-4eb5-de58-48a7cd540caf"
      },
      "source": [
        "n = int(input()) \n",
        "a = 1\n",
        "i = 1\n",
        "for i in range(1, n + 1):\n",
        "    numPlus = (i-1)*4\n",
        "    a += numPlus\n",
        "print(a)"
      ],
      "execution_count": null,
      "outputs": [
        {
          "output_type": "stream",
          "text": [
            "4\n",
            "25\n"
          ],
          "name": "stdout"
        }
      ]
    },
    {
      "cell_type": "code",
      "metadata": {
        "id": "-y2NEh_ewqQD",
        "colab": {
          "base_uri": "https://localhost:8080/"
        },
        "outputId": "89e59b3a-39ae-4274-dd9f-31c761ea32fc"
      },
      "source": [
        "n = int(input()) \r\n",
        "nums = range(1, n + 1)\r\n",
        "print( sum(map( lambda x: (x - 1) * 4  , nums)) + 1)"
      ],
      "execution_count": null,
      "outputs": [
        {
          "output_type": "stream",
          "text": [
            "2\n",
            "5\n"
          ],
          "name": "stdout"
        }
      ]
    },
    {
      "cell_type": "code",
      "metadata": {
        "colab": {
          "base_uri": "https://localhost:8080/"
        },
        "id": "FqqOVChmrfUp",
        "outputId": "fbadca4e-78a5-456d-b694-1b34317f2ff6"
      },
      "source": [
        "n = int(input()) \r\n",
        "nums = 2 * (n * n -  n) + 1\r\n",
        "print(nums)"
      ],
      "execution_count": null,
      "outputs": [
        {
          "output_type": "stream",
          "text": [
            "7\n",
            "85\n"
          ],
          "name": "stdout"
        }
      ]
    },
    {
      "cell_type": "code",
      "metadata": {
        "colab": {
          "base_uri": "https://localhost:8080/"
        },
        "id": "5np-MYFJ3y0w",
        "outputId": "f4ec3d7a-5601-4070-9eff-429981bedef0"
      },
      "source": [
        "n = int(input(\"введите число\"))\r\n",
        "k = int(input(\"разрядность\"))\r\n",
        "\r\n",
        "def translate(n, k=2):\r\n",
        "    return n % k if n < k else n % k + translate(n // k, k)*10\r\n",
        "\r\n",
        "print(translate(n, k))"
      ],
      "execution_count": null,
      "outputs": [
        {
          "output_type": "stream",
          "text": [
            "введите число234\n",
            "разрядность5\n",
            "1414\n"
          ],
          "name": "stdout"
        }
      ]
    },
    {
      "cell_type": "code",
      "metadata": {
        "colab": {
          "base_uri": "https://localhost:8080/"
        },
        "id": "sJdsxS1aOG9N",
        "outputId": "d70f7914-4fd0-4c77-8558-3c08e7a5713c"
      },
      "source": [
        "x = int(input())\r\n",
        "\r\n",
        "\r\n",
        "S = lambda x: (x - 1) * x \r\n",
        "print(S(x))"
      ],
      "execution_count": null,
      "outputs": [
        {
          "output_type": "stream",
          "text": [
            "3\n",
            "6\n"
          ],
          "name": "stdout"
        }
      ]
    },
    {
      "cell_type": "code",
      "metadata": {
        "id": "QR4ZKkhyJGWq"
      },
      "source": [
        "i = int(input())\r\n",
        "def factorial(n):\r\n",
        "    #your code\r\n",
        "    t = 1\r\n",
        "    a = 1\r\n",
        "    while t <= n :\r\n",
        "        a = a * t\r\n",
        "        t += 1\r\n",
        "        print(t, a )\r\n",
        "    return a\r\n",
        "\r\n",
        "print(factorial(i))"
      ],
      "execution_count": null,
      "outputs": []
    },
    {
      "cell_type": "code",
      "metadata": {
        "colab": {
          "base_uri": "https://localhost:8080/"
        },
        "id": "TrbHp4qt69oj",
        "outputId": "255fe1f6-62a9-471b-f59e-281a62346138"
      },
      "source": [
        "L = input()\r\n",
        "\r\n",
        "def maxId(L):\r\n",
        "   return L.index(max(L)) \r\n",
        "\r\n",
        "print(maxId(L))"
      ],
      "execution_count": null,
      "outputs": [
        {
          "output_type": "stream",
          "text": [
            "[54, 98, 33]\n",
            "11\n"
          ],
          "name": "stdout"
        }
      ]
    },
    {
      "cell_type": "markdown",
      "metadata": {
        "id": "xXJJZfQ0L3E9"
      },
      "source": [
        "Программа должна вывести одно целое число – минимальное количество оценок, которые Никанору необходимо проставить в электронный журнал, чтобы его средний балл стал равен ровно P. Если получить такой средний балл невозможно, программа должна вывести «impossible».\r\n",
        "\r\n",
        "Пример\r\n",
        "Ввод 50  4     \r\n",
        "\r\n",
        "25\r\n",
        "30\r\n",
        "10\r\n",
        "40\r\n",
        "\t     Вывод 2"
      ]
    },
    {
      "cell_type": "code",
      "metadata": {
        "colab": {
          "base_uri": "https://localhost:8080/"
        },
        "id": "ZnG5FjtDL2ax",
        "outputId": "2f20ba69-ff37-4ac8-98f7-18153b541bc7"
      },
      "source": [
        "import math\r\n",
        "\r\n",
        "goal = int(input(\"желаемый балл: \"))\r\n",
        "n = int(input(\"текущее количество оценок: \"))\r\n",
        "marks = [n]\r\n",
        "for i in range(n):\r\n",
        "  marks.append(int(input()))\r\n",
        "print(\"жди считаю\")\r\n",
        "sm = sum(marks)\r\n",
        "\r\n",
        "if (100 - goal) >= 1 and goal * n > sm:\r\n",
        "    t = (goal * n - sm) / (100 - goal)\r\n",
        "else:\r\n",
        "    print(\"impossible\")\r\n",
        "print(math.ceil(t))"
      ],
      "execution_count": null,
      "outputs": [
        {
          "output_type": "stream",
          "text": [
            "желаемый балл: 50\n",
            "текущее количество оценок: 2\n",
            "40\n",
            "33\n",
            "жди считаю\n",
            "1\n"
          ],
          "name": "stdout"
        }
      ]
    },
    {
      "cell_type": "code",
      "metadata": {
        "colab": {
          "base_uri": "https://localhost:8080/"
        },
        "id": "GmEUpe-kggH6",
        "outputId": "9404018a-87e6-49da-b46b-e95c9824519a"
      },
      "source": [
        "goal = int(input())\r\n",
        "n = int(input())\r\n",
        "marks = [n]\r\n",
        "for i in range(n):\r\n",
        "  marks.append(int(input()))\r\n",
        "a = 0\r\n",
        "if 50 > goal or goal > 100:\r\n",
        "  print(\"impossible\")\r\n",
        "else:\r\n",
        "  while marks < goal:\r\n",
        "    marks += 100\r\n",
        "    n += 1\r\n",
        "    a += 1\r\n",
        "  print(a)"
      ],
      "execution_count": null,
      "outputs": [
        {
          "output_type": "stream",
          "text": [
            "желаемый балл: 50\n",
            "текущее количество оценок: 4\n",
            "10\n",
            "25\n",
            "30\n",
            "40\n",
            "26.25\n",
            "4\n"
          ],
          "name": "stdout"
        }
      ]
    },
    {
      "cell_type": "markdown",
      "metadata": {
        "id": "n00wl7ZQ2Ha8"
      },
      "source": [
        "Здесь нет ошибки код только время\r\n",
        "Т 1.089"
      ]
    },
    {
      "cell_type": "code",
      "metadata": {
        "colab": {
          "base_uri": "https://localhost:8080/"
        },
        "id": "KzdRff_iwkbw",
        "outputId": "626572c6-606e-4efe-89d9-7790a4c07e40"
      },
      "source": [
        "goal = int(input(\"желаемый балл: \"))\r\n",
        "n = int(input(\"текущее количество оценок: \"))\r\n",
        "marks = 0\r\n",
        "for i in range(n):\r\n",
        "  marks += int(input())\r\n",
        "a = 0\r\n",
        "if marks > goal * n or goal > 100:\r\n",
        "  print(\"impossible\")\r\n",
        "else:\r\n",
        "  while marks < goal * n:\r\n",
        "    marks += 100\r\n",
        "    n += 1\r\n",
        "    a += 1\r\n",
        "  print(a)"
      ],
      "execution_count": null,
      "outputs": [
        {
          "output_type": "stream",
          "text": [
            "желаемый балл: 50\n",
            "текущее количество оценок: 4\n",
            "10\n",
            "25\n",
            "30\n",
            "40\n",
            "2\n"
          ],
          "name": "stdout"
        }
      ]
    },
    {
      "cell_type": "markdown",
      "metadata": {
        "id": "_ks7uXYy6KO3"
      },
      "source": [
        "злесь  ошибка кода при Т = 1.09"
      ]
    },
    {
      "cell_type": "code",
      "metadata": {
        "colab": {
          "base_uri": "https://localhost:8080/"
        },
        "id": "oMsXfAF94zHS",
        "outputId": "df201521-b532-4e21-d443-288ea0daab1d"
      },
      "source": [
        "goal = int(input())\r\n",
        "n = int(input())\r\n",
        "marks = [n]\r\n",
        "for i in range(n):\r\n",
        "  marks.append(int(input()))\r\n",
        "s = sum(marks)\r\n",
        "a = 0\r\n",
        "if s > goal * n or goal > 100:\r\n",
        "  print(\"impossible\")\r\n",
        "else:\r\n",
        "  while s < goal * n:\r\n",
        "    s += 100\r\n",
        "    n += 1\r\n",
        "    a += 1\r\n",
        "  print(a)"
      ],
      "execution_count": null,
      "outputs": [
        {
          "output_type": "stream",
          "text": [
            "50\n",
            "4\n",
            "10\n",
            "25\n",
            "30\n",
            "40\n",
            "2\n"
          ],
          "name": "stdout"
        }
      ]
    }
  ]
}